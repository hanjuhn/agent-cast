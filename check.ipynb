{
 "cells": [
  {
   "cell_type": "code",
   "execution_count": 2,
   "id": "49e3ba5b",
   "metadata": {},
   "outputs": [],
   "source": [
    "import json\n",
    "\n",
    "with open('crawled_data/summary_result.json', 'r') as f:\n",
    "    data = json.load(f)\n"
   ]
  },
  {
   "cell_type": "code",
   "execution_count": 7,
   "metadata": {},
   "outputs": [
    {
     "name": "stdout",
     "output_type": "stream",
     "text": [
      "총 데이터 개수: 172\n",
      "평균 문자수: 2321.27\n",
      "최대 문자수: 47669\n",
      "최소 문자수: 357\n",
      "총 문자수: 399259\n",
      "중앙값: 1276.00\n",
      "표준편차: 4529.36\n",
      "0-100자: 0개 (0.0%)\n",
      "101-500자: 4개 (2.3%)\n",
      "501-1000자: 43개 (25.0%)\n",
      "1001-2000자: 76개 (44.2%)\n",
      "2001-5000자: 46개 (26.7%)\n",
      "5000+자: 3개 (1.7%)\n"
     ]
    }
   ],
   "source": [
    "# 데이터의 content 문자수 통계\n",
    "content_list = [x['content'] for x in data]\n",
    "\n",
    "# 기본 통계\n",
    "char_counts = [len(content) for content in content_list]\n",
    "\n",
    "print(f\"총 데이터 개수: {len(char_counts)}\")\n",
    "print(f\"평균 문자수: {sum(char_counts) / len(char_counts):.2f}\")\n",
    "print(f\"최대 문자수: {max(char_counts)}\")\n",
    "print(f\"최소 문자수: {min(char_counts)}\")\n",
    "print(f\"총 문자수: {sum(char_counts)}\")\n",
    "\n",
    "# 분포 확인\n",
    "import numpy as np\n",
    "print(f\"중앙값: {np.median(char_counts):.2f}\")\n",
    "print(f\"표준편차: {np.std(char_counts):.2f}\")\n",
    "\n",
    "# 구간별 분포\n",
    "bins = [0, 100, 500, 1000, 2000, 8000, float('inf')]\n",
    "labels = ['0-100', '101-500', '501-1000', '1001-2000', '2001-5000', '5000+']\n",
    "\n",
    "histogram = np.histogram(char_counts, bins=bins)[0]\n",
    "for label, count in zip(labels, histogram):\n",
    "    print(f\"{label}자: {count}개 ({count/len(char_counts)*100:.1f}%)\")"
   ]
  },
  {
   "cell_type": "code",
   "execution_count": 8,
   "metadata": {},
   "outputs": [
    {
     "name": "stdout",
     "output_type": "stream",
     "text": [
      "원본 데이터 개수: 172\n",
      "필터링 후 데이터 개수: 160\n",
      "삭제된 데이터 개수: 12\n",
      "필터링된 데이터가 'filtered_data.json' 파일로 저장되었습니다.\n"
     ]
    }
   ],
   "source": [
    "# 5000자 이하인 데이터만 필터링\n",
    "filtered_data = [x for x in data if len(x['content']) <= 5000]\n",
    "\n",
    "print(f\"원본 데이터 개수: {len(data)}\")\n",
    "print(f\"필터링 후 데이터 개수: {len(filtered_data)}\")\n",
    "print(f\"삭제된 데이터 개수: {len(data) - len(filtered_data)}\")\n",
    "\n",
    "# 새로운 JSON 파일로 저장\n",
    "import json\n",
    "\n",
    "with open('filtered_data.json', 'w', encoding='utf-8') as f:\n",
    "    json.dump(filtered_data, f, ensure_ascii=False, indent=2)\n",
    "\n",
    "print(\"필터링된 데이터가 'filtered_data.json' 파일로 저장되었습니다.\")"
   ]
  },
  {
   "cell_type": "code",
   "execution_count": null,
   "id": "32feeca1",
   "metadata": {},
   "outputs": [],
   "source": []
  }
 ],
 "metadata": {
  "kernelspec": {
   "display_name": "kmy_env",
   "language": "python",
   "name": "python3"
  },
  "language_info": {
   "codemirror_mode": {
    "name": "ipython",
    "version": 3
   },
   "file_extension": ".py",
   "mimetype": "text/x-python",
   "name": "python",
   "nbconvert_exporter": "python",
   "pygments_lexer": "ipython3",
   "version": "3.12.7"
  }
 },
 "nbformat": 4,
 "nbformat_minor": 5
}
